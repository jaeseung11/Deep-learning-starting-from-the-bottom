{
  "nbformat": 4,
  "nbformat_minor": 0,
  "metadata": {
    "colab": {
      "provenance": [],
      "authorship_tag": "ABX9TyMJWuDHl2TQ/+uI5RKmAPfM"
    },
    "kernelspec": {
      "name": "python3",
      "display_name": "Python 3"
    },
    "language_info": {
      "name": "python"
    }
  },
  "cells": [
    {
      "cell_type": "code",
      "execution_count": null,
      "metadata": {
        "colab": {
          "base_uri": "https://localhost:8080/"
        },
        "id": "0T-0B5Op6L2Q",
        "outputId": "c7c67dbf-b469-45a5-8f62-aafe2af5f5d0"
      },
      "outputs": [
        {
          "output_type": "execute_result",
          "data": {
            "text/plain": [
              "1"
            ]
          },
          "metadata": {},
          "execution_count": 1
        }
      ],
      "source": [
        "# 1.1.1 벡터와 행령\n",
        "\n",
        "import numpy as np\n",
        "\n",
        "x = np.array([1,2,3])\n",
        "# x.__class__  # 클래스 이름 표시 하기위해서\n",
        "x.shape # 다차원 배열의 형상 나타나기위해  1차원에 원소 3개 임을 나타냄.\n",
        "x.ndim  # 차원수를 나타냄. "
      ]
    },
    {
      "cell_type": "code",
      "source": [
        "W = np.array([[1,2,3], [4,5,6]])\n",
        "W.shape # 2행 3열\n",
        "W.ndim  # 2차원"
      ],
      "metadata": {
        "colab": {
          "base_uri": "https://localhost:8080/"
        },
        "id": "Iy3Jhazw7fzk",
        "outputId": "7865e326-d53b-41c9-9162-d13196b8efac"
      },
      "execution_count": null,
      "outputs": [
        {
          "output_type": "execute_result",
          "data": {
            "text/plain": [
              "2"
            ]
          },
          "metadata": {},
          "execution_count": 2
        }
      ]
    },
    {
      "cell_type": "code",
      "source": [
        "# 1.1.2 행렬의 원소별 연산\n",
        "\n",
        "w = np.array([[1,2,3,], [4,5,6]])\n",
        "x = np.array([[0,1,2,], [4,5,6]])\n",
        "\n",
        "w+x"
      ],
      "metadata": {
        "id": "LVwMJkKY9Lpz",
        "colab": {
          "base_uri": "https://localhost:8080/"
        },
        "outputId": "d3ac1cb7-7525-4c97-8459-0ab1e152e243"
      },
      "execution_count": null,
      "outputs": [
        {
          "output_type": "execute_result",
          "data": {
            "text/plain": [
              "array([[ 1,  3,  5],\n",
              "       [ 8, 10, 12]])"
            ]
          },
          "metadata": {},
          "execution_count": 3
        }
      ]
    },
    {
      "cell_type": "code",
      "source": [
        "# 1.1.3 브로트캐스트\n",
        "\n",
        "A = np.array([[1,2], [3,4]])\n",
        "A * 10  # 여기서 10을 2x2 행렬로 만든다."
      ],
      "metadata": {
        "colab": {
          "base_uri": "https://localhost:8080/"
        },
        "id": "z2J6fHjNCtlK",
        "outputId": "bc3a957b-afe9-458d-dd0b-5cd007d1e9d5"
      },
      "execution_count": null,
      "outputs": [
        {
          "output_type": "execute_result",
          "data": {
            "text/plain": [
              "array([[10, 20],\n",
              "       [30, 40]])"
            ]
          },
          "metadata": {},
          "execution_count": 4
        }
      ]
    },
    {
      "cell_type": "code",
      "source": [
        "#1.1.3 브로드캐스트2\n",
        "\n",
        "A = np.array([[1,2], [3,4]])\n",
        "b = np.array([10,20])  # 여기서도 [10,20] [10,20] 으로 2x2 행령로 만든다. \n",
        "\n",
        "A * b\n"
      ],
      "metadata": {
        "colab": {
          "base_uri": "https://localhost:8080/"
        },
        "id": "AikI7D9UDh1L",
        "outputId": "f172aed6-e09f-4a25-a97a-b33001907c9b"
      },
      "execution_count": null,
      "outputs": [
        {
          "output_type": "execute_result",
          "data": {
            "text/plain": [
              "array([[10, 40],\n",
              "       [30, 80]])"
            ]
          },
          "metadata": {},
          "execution_count": 5
        }
      ]
    },
    {
      "cell_type": "code",
      "source": [
        "# 벡터의 내적\n",
        "\n",
        "a = np.array([1,2,3])\n",
        "b = np.array([4,5,6])\n",
        "\n",
        "np.dot(a,b)"
      ],
      "metadata": {
        "colab": {
          "base_uri": "https://localhost:8080/"
        },
        "id": "E1YRJOsuExTE",
        "outputId": "ece7b70e-22a3-4f6c-9613-5e3cacb0e730"
      },
      "execution_count": null,
      "outputs": [
        {
          "output_type": "execute_result",
          "data": {
            "text/plain": [
              "32"
            ]
          },
          "metadata": {},
          "execution_count": 6
        }
      ]
    },
    {
      "cell_type": "code",
      "source": [
        "# 행령의 곱\n",
        "\n",
        "a = np.array([[1,2], [3,4]])\n",
        "b = np.array([[5,6], [7,8]])\n",
        "np.matmul(a,b)"
      ],
      "metadata": {
        "colab": {
          "base_uri": "https://localhost:8080/"
        },
        "id": "tSNDFXNTE9Cb",
        "outputId": "211841b2-38e6-46ca-9217-9f15c8e90eda"
      },
      "execution_count": null,
      "outputs": [
        {
          "output_type": "execute_result",
          "data": {
            "text/plain": [
              "array([[19, 22],\n",
              "       [43, 50]])"
            ]
          },
          "metadata": {},
          "execution_count": 7
        }
      ]
    },
    {
      "cell_type": "code",
      "source": [
        "w1 = np.random.randn(2,4) # 랜덤으로 2행 4열의 숫자 아무거나 뿌려준다.\n",
        "b1 = np.random.randn(4)   # 랜덤으로 1차원 즉 1행으로 4개 랜덤으로 뿌려준다. \n",
        "x = np.random.randn(10,2)  # 랜덤으로 10행 2열 수를 아무거나 뿌려준다.\n",
        "h = np.matmul(x,w1) + b1  # 특히 행령곱할때 행렬의 형상 중요하다.  b1은 (10,4)로 만들어준다. 브로드캐스트이다.\n",
        "h"
      ],
      "metadata": {
        "colab": {
          "base_uri": "https://localhost:8080/"
        },
        "id": "YE1YFbF_Go5D",
        "outputId": "28124374-5125-422f-bbc8-322aa34cc7ab"
      },
      "execution_count": null,
      "outputs": [
        {
          "output_type": "execute_result",
          "data": {
            "text/plain": [
              "array([[ 1.23557068, -0.11354381,  0.56392806, -0.87781184],\n",
              "       [-1.98550559, -3.28781015,  0.42905393,  2.77440633],\n",
              "       [ 2.21271102,  2.67125857, -1.41666588, -0.48263394],\n",
              "       [ 0.49443659,  2.93359614, -3.65856248,  3.07911384],\n",
              "       [-0.26401665,  0.48964379, -1.80788792,  2.53938879],\n",
              "       [ 0.65518423, -0.01015459, -0.20972195,  0.33744287],\n",
              "       [-2.33621889, -1.50109423, -1.95163329,  4.93132178],\n",
              "       [ 2.29945248,  1.6588137 , -0.19479297, -1.48681815],\n",
              "       [ 1.4403037 ,  1.13586285, -0.58995371, -0.24559646],\n",
              "       [ 2.44214826,  2.74115012, -1.23372912, -0.87166203]])"
            ]
          },
          "metadata": {},
          "execution_count": 8
        }
      ]
    },
    {
      "cell_type": "code",
      "source": [
        "b1"
      ],
      "metadata": {
        "colab": {
          "base_uri": "https://localhost:8080/"
        },
        "id": "5B09w5-e48ZT",
        "outputId": "903abe05-5a7c-4c73-a590-94112c9c73d7"
      },
      "execution_count": null,
      "outputs": [
        {
          "output_type": "execute_result",
          "data": {
            "text/plain": [
              "array([ 0.97327805,  1.28298682, -1.28342904,  0.78503901])"
            ]
          },
          "metadata": {},
          "execution_count": 12
        }
      ]
    },
    {
      "cell_type": "code",
      "source": [
        "h"
      ],
      "metadata": {
        "id": "jR_PdXgE5t4m",
        "outputId": "681d65cf-2f49-432d-cd2b-57a65a556d64",
        "colab": {
          "base_uri": "https://localhost:8080/"
        }
      },
      "execution_count": null,
      "outputs": [
        {
          "output_type": "execute_result",
          "data": {
            "text/plain": [
              "array([[ 1.23557068, -0.11354381,  0.56392806, -0.87781184],\n",
              "       [-1.98550559, -3.28781015,  0.42905393,  2.77440633],\n",
              "       [ 2.21271102,  2.67125857, -1.41666588, -0.48263394],\n",
              "       [ 0.49443659,  2.93359614, -3.65856248,  3.07911384],\n",
              "       [-0.26401665,  0.48964379, -1.80788792,  2.53938879],\n",
              "       [ 0.65518423, -0.01015459, -0.20972195,  0.33744287],\n",
              "       [-2.33621889, -1.50109423, -1.95163329,  4.93132178],\n",
              "       [ 2.29945248,  1.6588137 , -0.19479297, -1.48681815],\n",
              "       [ 1.4403037 ,  1.13586285, -0.58995371, -0.24559646],\n",
              "       [ 2.44214826,  2.74115012, -1.23372912, -0.87166203]])"
            ]
          },
          "metadata": {},
          "execution_count": 15
        }
      ]
    },
    {
      "cell_type": "code",
      "source": [
        "def sigmoid(x):\n",
        "    return 1/(1+np.exp(-x))"
      ],
      "metadata": {
        "id": "eDv345d0NDln"
      },
      "execution_count": null,
      "outputs": []
    },
    {
      "cell_type": "code",
      "source": [
        "a = sigmoid(h)"
      ],
      "metadata": {
        "id": "IE0eJY6sQvyv"
      },
      "execution_count": null,
      "outputs": []
    },
    {
      "cell_type": "code",
      "source": [
        "a"
      ],
      "metadata": {
        "colab": {
          "base_uri": "https://localhost:8080/"
        },
        "id": "LmILIAg05a64",
        "outputId": "a5b1c8d4-c644-487e-d247-4591d22960b5"
      },
      "execution_count": null,
      "outputs": [
        {
          "output_type": "execute_result",
          "data": {
            "text/plain": [
              "array([[0.77479209, 0.47164451, 0.63736093, 0.29363142],\n",
              "       [0.12073316, 0.03599175, 0.60564773, 0.94127702],\n",
              "       [0.90138517, 0.93530922, 0.1951848 , 0.38163035],\n",
              "       [0.62115102, 0.94948244, 0.02512214, 0.95602294],\n",
              "       [0.43437658, 0.62002252, 0.14089358, 0.9268574 ],\n",
              "       [0.65817777, 0.49746137, 0.44776084, 0.58356923],\n",
              "       [0.08816742, 0.18226238, 0.12437537, 0.99283475],\n",
              "       [0.90883168, 0.84007869, 0.45145516, 0.18439979],\n",
              "       [0.80850168, 0.75691924, 0.35664548, 0.43890766],\n",
              "       [0.91998537, 0.93941159, 0.22552941, 0.29490859]])"
            ]
          },
          "metadata": {},
          "execution_count": 14
        }
      ]
    },
    {
      "cell_type": "code",
      "source": [
        "def sigmoid(x):\n",
        "    return 1/(1+np.exp(-x))"
      ],
      "metadata": {
        "id": "iJg-W4QmRPZ0"
      },
      "execution_count": null,
      "outputs": []
    }
  ]
}